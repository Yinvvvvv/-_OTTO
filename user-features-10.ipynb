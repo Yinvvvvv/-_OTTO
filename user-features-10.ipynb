{
 "cells": [
  {
   "cell_type": "code",
   "execution_count": 4,
   "id": "2c42eca5",
   "metadata": {},
   "outputs": [],
   "source": [
    "import os,gc\n",
    "os.environ[\"CUDA_VISIBLE_DEVICES\"]=\"0\"\n",
    "import pandas as pd\n",
    "import numpy as np\n"
   ]
  },
  {
   "cell_type": "code",
   "execution_count": 5,
   "id": "41610cfc",
   "metadata": {},
   "outputs": [
    {
     "name": "stdout",
     "output_type": "stream",
     "text": [
      "(28454, 8)\n"
     ]
    },
    {
     "data": {
      "text/html": [
       "<div>\n",
       "<style scoped>\n",
       "    .dataframe tbody tr th:only-of-type {\n",
       "        vertical-align: middle;\n",
       "    }\n",
       "\n",
       "    .dataframe tbody tr th {\n",
       "        vertical-align: top;\n",
       "    }\n",
       "\n",
       "    .dataframe thead th {\n",
       "        text-align: right;\n",
       "    }\n",
       "</style>\n",
       "<table border=\"1\" class=\"dataframe\">\n",
       "  <thead>\n",
       "    <tr style=\"text-align: right;\">\n",
       "      <th></th>\n",
       "      <th>Unnamed: 0</th>\n",
       "      <th>session</th>\n",
       "      <th>aid</th>\n",
       "      <th>ts</th>\n",
       "      <th>type</th>\n",
       "      <th>hour</th>\n",
       "      <th>day</th>\n",
       "      <th>aid2</th>\n",
       "    </tr>\n",
       "  </thead>\n",
       "  <tbody>\n",
       "    <tr>\n",
       "      <th>6</th>\n",
       "      <td>6</td>\n",
       "      <td>0</td>\n",
       "      <td>1649869</td>\n",
       "      <td>1659369893</td>\n",
       "      <td>1</td>\n",
       "      <td>57893</td>\n",
       "      <td>403493</td>\n",
       "      <td>1649869</td>\n",
       "    </tr>\n",
       "    <tr>\n",
       "      <th>7</th>\n",
       "      <td>7</td>\n",
       "      <td>0</td>\n",
       "      <td>461689</td>\n",
       "      <td>1659369898</td>\n",
       "      <td>1</td>\n",
       "      <td>57898</td>\n",
       "      <td>403498</td>\n",
       "      <td>461689</td>\n",
       "    </tr>\n",
       "    <tr>\n",
       "      <th>8</th>\n",
       "      <td>8</td>\n",
       "      <td>0</td>\n",
       "      <td>305831</td>\n",
       "      <td>1659370027</td>\n",
       "      <td>2</td>\n",
       "      <td>58027</td>\n",
       "      <td>403627</td>\n",
       "      <td>305831</td>\n",
       "    </tr>\n",
       "    <tr>\n",
       "      <th>9</th>\n",
       "      <td>9</td>\n",
       "      <td>0</td>\n",
       "      <td>461689</td>\n",
       "      <td>1659370027</td>\n",
       "      <td>2</td>\n",
       "      <td>58027</td>\n",
       "      <td>403627</td>\n",
       "      <td>461689</td>\n",
       "    </tr>\n",
       "    <tr>\n",
       "      <th>43</th>\n",
       "      <td>43</td>\n",
       "      <td>0</td>\n",
       "      <td>789245</td>\n",
       "      <td>1659710157</td>\n",
       "      <td>1</td>\n",
       "      <td>52557</td>\n",
       "      <td>138957</td>\n",
       "      <td>789245</td>\n",
       "    </tr>\n",
       "  </tbody>\n",
       "</table>\n",
       "</div>"
      ],
      "text/plain": [
       "    Unnamed: 0  session      aid          ts  type   hour     day     aid2\n",
       "6            6        0  1649869  1659369893     1  57893  403493  1649869\n",
       "7            7        0   461689  1659369898     1  57898  403498   461689\n",
       "8            8        0   305831  1659370027     2  58027  403627   305831\n",
       "9            9        0   461689  1659370027     2  58027  403627   461689\n",
       "43          43        0   789245  1659710157     1  52557  138957   789245"
      ]
     },
     "execution_count": 5,
     "metadata": {},
     "output_type": "execute_result"
    }
   ],
   "source": [
    "df = pd.read_csv('test_full.csv')\n",
    "\n",
    "df = df.loc[df['type']!=0]\n",
    "df['hour'] = df.ts % (60*60*24)\n",
    "df['day'] = df.ts % (60*60*24*7)\n",
    "df['aid2'] = df.aid\n",
    "print( df.shape )\n",
    "df.head()"
   ]
  },
  {
   "cell_type": "code",
   "execution_count": 6,
   "id": "7117fe90",
   "metadata": {},
   "outputs": [],
   "source": [
    "user_features = df.groupby('session').agg({'type':'mean','aid':'count','aid2':'nunique','hour':'mean','day':'mean'})\n",
    "user_features.columns = ['buy_ratio2','count_item2','unique_item2','hour_mean2','day_mean2']"
   ]
  },
  {
   "cell_type": "code",
   "execution_count": 4,
   "id": "5707d1eb",
   "metadata": {
    "scrolled": true
   },
   "outputs": [
    {
     "data": {
      "text/html": [
       "<div>\n",
       "<style scoped>\n",
       "    .dataframe tbody tr th:only-of-type {\n",
       "        vertical-align: middle;\n",
       "    }\n",
       "\n",
       "    .dataframe tbody tr th {\n",
       "        vertical-align: top;\n",
       "    }\n",
       "\n",
       "    .dataframe thead th {\n",
       "        text-align: right;\n",
       "    }\n",
       "</style>\n",
       "<table border=\"1\" class=\"dataframe\">\n",
       "  <thead>\n",
       "    <tr style=\"text-align: right;\">\n",
       "      <th></th>\n",
       "      <th>buy_ratio2</th>\n",
       "      <th>count_item2</th>\n",
       "      <th>unique_item2</th>\n",
       "      <th>hour_mean2</th>\n",
       "      <th>day_mean2</th>\n",
       "    </tr>\n",
       "    <tr>\n",
       "      <th>session</th>\n",
       "      <th></th>\n",
       "      <th></th>\n",
       "      <th></th>\n",
       "      <th></th>\n",
       "      <th></th>\n",
       "    </tr>\n",
       "  </thead>\n",
       "  <tbody>\n",
       "    <tr>\n",
       "      <th>11098530</th>\n",
       "      <td>1.0</td>\n",
       "      <td>1</td>\n",
       "      <td>1</td>\n",
       "      <td>80532.0</td>\n",
       "      <td>339732.0</td>\n",
       "    </tr>\n",
       "    <tr>\n",
       "      <th>11098531</th>\n",
       "      <td>2.0</td>\n",
       "      <td>4</td>\n",
       "      <td>4</td>\n",
       "      <td>79746.0</td>\n",
       "      <td>338946.0</td>\n",
       "    </tr>\n",
       "    <tr>\n",
       "      <th>11098533</th>\n",
       "      <td>1.0</td>\n",
       "      <td>2</td>\n",
       "      <td>2</td>\n",
       "      <td>79339.5</td>\n",
       "      <td>338539.5</td>\n",
       "    </tr>\n",
       "    <tr>\n",
       "      <th>11098535</th>\n",
       "      <td>1.0</td>\n",
       "      <td>1</td>\n",
       "      <td>1</td>\n",
       "      <td>79263.0</td>\n",
       "      <td>338463.0</td>\n",
       "    </tr>\n",
       "    <tr>\n",
       "      <th>11098537</th>\n",
       "      <td>1.4</td>\n",
       "      <td>5</td>\n",
       "      <td>2</td>\n",
       "      <td>82032.8</td>\n",
       "      <td>341232.8</td>\n",
       "    </tr>\n",
       "  </tbody>\n",
       "</table>\n",
       "</div>"
      ],
      "text/plain": [
       "          buy_ratio2  count_item2  unique_item2  hour_mean2  day_mean2\n",
       "session                                                               \n",
       "11098530         1.0            1             1     80532.0   339732.0\n",
       "11098531         2.0            4             4     79746.0   338946.0\n",
       "11098533         1.0            2             2     79339.5   338539.5\n",
       "11098535         1.0            1             1     79263.0   338463.0\n",
       "11098537         1.4            5             2     82032.8   341232.8"
      ]
     },
     "execution_count": 4,
     "metadata": {},
     "output_type": "execute_result"
    }
   ],
   "source": [
    "user_features.head()"
   ]
  },
  {
   "cell_type": "markdown",
   "id": "22e9ac68",
   "metadata": {},
   "source": [
    "# buy_ratio\n",
    "反应用户的购买率，这是用户的特征\n",
    "# count_item\n",
    "反应了这个用户看了多少物品\n",
    "# unique_item\n",
    "反映了这个用户看了多少不同的物品\n",
    "# hour_mean\n",
    "df['hour'] = df.ts % (60*60*24)\n",
    "平均时长几小时\n",
    "# day_mean\n",
    "df['day'] = df.ts % (60*60*24*7)\n",
    "平均持续几天"
   ]
  },
  {
   "cell_type": "code",
   "execution_count": 5,
   "id": "e7818f39",
   "metadata": {},
   "outputs": [],
   "source": [
    "user_features2 = df.groupby('session').agg({'type':'std','hour':'std','day':'std'}).fillna(-1)\n",
    "user_features2.columns = ['buy_ratio_std2','hour_std2','day_std2']\n",
    "\n",
    "f32 = ['buy_ratio_std2','hour_std2','day_std2']\n",
    "for c in f32: user_features2[c] = user_features2[c].astype('float32')"
   ]
  },
  {
   "cell_type": "code",
   "execution_count": 6,
   "id": "cf254791",
   "metadata": {},
   "outputs": [
    {
     "data": {
      "text/html": [
       "<div>\n",
       "<style scoped>\n",
       "    .dataframe tbody tr th:only-of-type {\n",
       "        vertical-align: middle;\n",
       "    }\n",
       "\n",
       "    .dataframe tbody tr th {\n",
       "        vertical-align: top;\n",
       "    }\n",
       "\n",
       "    .dataframe thead th {\n",
       "        text-align: right;\n",
       "    }\n",
       "</style>\n",
       "<table border=\"1\" class=\"dataframe\">\n",
       "  <thead>\n",
       "    <tr style=\"text-align: right;\">\n",
       "      <th></th>\n",
       "      <th>buy_ratio_std2</th>\n",
       "      <th>hour_std2</th>\n",
       "      <th>day_std2</th>\n",
       "    </tr>\n",
       "    <tr>\n",
       "      <th>session</th>\n",
       "      <th></th>\n",
       "      <th></th>\n",
       "      <th></th>\n",
       "    </tr>\n",
       "  </thead>\n",
       "  <tbody>\n",
       "    <tr>\n",
       "      <th>12260713</th>\n",
       "      <td>0.447214</td>\n",
       "      <td>742.730286</td>\n",
       "      <td>742.730286</td>\n",
       "    </tr>\n",
       "    <tr>\n",
       "      <th>11995080</th>\n",
       "      <td>0.000000</td>\n",
       "      <td>8843.485352</td>\n",
       "      <td>8843.485352</td>\n",
       "    </tr>\n",
       "    <tr>\n",
       "      <th>11847637</th>\n",
       "      <td>-1.000000</td>\n",
       "      <td>-1.000000</td>\n",
       "      <td>-1.000000</td>\n",
       "    </tr>\n",
       "    <tr>\n",
       "      <th>12293367</th>\n",
       "      <td>-1.000000</td>\n",
       "      <td>-1.000000</td>\n",
       "      <td>-1.000000</td>\n",
       "    </tr>\n",
       "    <tr>\n",
       "      <th>12057855</th>\n",
       "      <td>0.000000</td>\n",
       "      <td>113.182747</td>\n",
       "      <td>113.182747</td>\n",
       "    </tr>\n",
       "  </tbody>\n",
       "</table>\n",
       "</div>"
      ],
      "text/plain": [
       "          buy_ratio_std2    hour_std2     day_std2\n",
       "session                                           \n",
       "12260713        0.447214   742.730286   742.730286\n",
       "11995080        0.000000  8843.485352  8843.485352\n",
       "11847637       -1.000000    -1.000000    -1.000000\n",
       "12293367       -1.000000    -1.000000    -1.000000\n",
       "12057855        0.000000   113.182747   113.182747"
      ]
     },
     "execution_count": 6,
     "metadata": {},
     "output_type": "execute_result"
    }
   ],
   "source": [
    "user_features2.head()"
   ]
  },
  {
   "cell_type": "code",
   "execution_count": 7,
   "id": "a80ae583",
   "metadata": {},
   "outputs": [],
   "source": [
    "user_features['repeat2'] = user_features.count_item2 / user_features.unique_item2\n",
    "\n",
    "f32 = ['buy_ratio2','hour_mean2','day_mean2','repeat2']\n",
    "for c in f32: user_features[c] = user_features[c].astype('float32')\n",
    "    \n",
    "i32 = ['count_item2','unique_item2']\n",
    "for c in i32: user_features[c] = user_features[c].astype('int32')"
   ]
  },
  {
   "cell_type": "code",
   "execution_count": 8,
   "id": "2ff8b281",
   "metadata": {},
   "outputs": [],
   "source": [
    "user_features = cudf.concat([user_features,user_features2],axis=1)"
   ]
  },
  {
   "cell_type": "code",
   "execution_count": 10,
   "id": "c5fde8a2",
   "metadata": {},
   "outputs": [],
   "source": [
    "user_features.columns = [x.replace('2','10') for x in user_features.columns]"
   ]
  },
  {
   "cell_type": "code",
   "execution_count": 2,
   "id": "5b405532",
   "metadata": {},
   "outputs": [
    {
     "ename": "NameError",
     "evalue": "name 'user_features' is not defined",
     "output_type": "error",
     "traceback": [
      "\u001b[0;31m---------------------------------------------------------------------------\u001b[0m",
      "\u001b[0;31mNameError\u001b[0m                                 Traceback (most recent call last)",
      "\u001b[0;32m/var/folders/5r/fxq2sll50dv_fky0k05fjhnm0000gp/T/ipykernel_67863/30703991.py\u001b[0m in \u001b[0;36m<module>\u001b[0;34m\u001b[0m\n\u001b[0;32m----> 1\u001b[0;31m \u001b[0muser_features\u001b[0m\u001b[0;34m.\u001b[0m\u001b[0mhead\u001b[0m\u001b[0;34m(\u001b[0m\u001b[0;34m)\u001b[0m\u001b[0;34m\u001b[0m\u001b[0;34m\u001b[0m\u001b[0m\n\u001b[0m",
      "\u001b[0;31mNameError\u001b[0m: name 'user_features' is not defined"
     ]
    }
   ],
   "source": [
    "user_features.head()"
   ]
  },
  {
   "cell_type": "code",
   "execution_count": 12,
   "id": "52075d4c",
   "metadata": {},
   "outputs": [
    {
     "data": {
      "text/plain": [
       "buy_ratio10        float32\n",
       "count_item10         int32\n",
       "unique_item10        int32\n",
       "hour_mean10        float32\n",
       "day_mean10         float32\n",
       "repeat10           float32\n",
       "buy_ratio_std10    float32\n",
       "hour_std10         float32\n",
       "day_std10          float32\n",
       "dtype: object"
      ]
     },
     "execution_count": 12,
     "metadata": {},
     "output_type": "execute_result"
    }
   ],
   "source": [
    "user_features.dtypes"
   ]
  },
  {
   "cell_type": "code",
   "execution_count": 1,
   "id": "5b70464e",
   "metadata": {},
   "outputs": [
    {
     "ename": "NameError",
     "evalue": "name 'user_features' is not defined",
     "output_type": "error",
     "traceback": [
      "\u001b[0;31m---------------------------------------------------------------------------\u001b[0m",
      "\u001b[0;31mNameError\u001b[0m                                 Traceback (most recent call last)",
      "\u001b[0;32m/var/folders/5r/fxq2sll50dv_fky0k05fjhnm0000gp/T/ipykernel_67863/1423741053.py\u001b[0m in \u001b[0;36m<module>\u001b[0;34m\u001b[0m\n\u001b[0;32m----> 1\u001b[0;31m \u001b[0muser_features\u001b[0m\u001b[0;34m.\u001b[0m\u001b[0mto_parquet\u001b[0m\u001b[0;34m(\u001b[0m\u001b[0;34m'user10.pqt'\u001b[0m\u001b[0;34m)\u001b[0m\u001b[0;34m\u001b[0m\u001b[0;34m\u001b[0m\u001b[0m\n\u001b[0m",
      "\u001b[0;31mNameError\u001b[0m: name 'user_features' is not defined"
     ]
    }
   ],
   "source": [
    "user_features.to_parquet('user10.pqt')"
   ]
  },
  {
   "cell_type": "code",
   "execution_count": null,
   "id": "baf13276",
   "metadata": {},
   "outputs": [],
   "source": []
  }
 ],
 "metadata": {
  "kernelspec": {
   "display_name": "Python 3 (ipykernel)",
   "language": "python",
   "name": "python3"
  },
  "language_info": {
   "codemirror_mode": {
    "name": "ipython",
    "version": 3
   },
   "file_extension": ".py",
   "mimetype": "text/x-python",
   "name": "python",
   "nbconvert_exporter": "python",
   "pygments_lexer": "ipython3",
   "version": "3.9.7"
  }
 },
 "nbformat": 4,
 "nbformat_minor": 5
}
